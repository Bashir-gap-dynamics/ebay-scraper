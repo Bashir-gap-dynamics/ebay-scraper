{
 "cells": [
  {
   "cell_type": "code",
   "execution_count": 105,
   "id": "ef3f3d9d",
   "metadata": {},
   "outputs": [],
   "source": [
    "import pyautogui\n",
    "import time\n",
    "import pyperclip\n",
    "class mouse:\n",
    "\n",
    "    def __init__(self):\n",
    "        self.screenWidth, self.screenHeight = pyautogui.size()\n",
    "    \n",
    "    def __str__(self):\n",
    "        return 'screen width: {}px screen height {}px '.format(self.screenWidth, self.screenHeight)\n",
    "    \n",
    "    def copy_clipboard(self):\n",
    "        pyautogui.hotkey('ctrl', 'c')\n",
    "        time.sleep(.01)  # ctrl-c is usually very fast but your program may execute faster\n",
    "        return pyperclip.paste()\n",
    "    \n",
    "    \n",
    "    \n",
    "    def click(self,x_axis,y_axis):\n",
    "        pyperclip.copy('')\n",
    "        time.sleep(2)\n",
    "        pyautogui.click(x_axis, y_axis)\n",
    "        pyautogui.click(x_axis, y_axis)\n",
    "#         time.sleep(0.5)\n",
    "#         pyautogui.click(x_axis, y_axis)\n",
    "        \n",
    "    def go_to_serach_bar(self,x_axis,y_axis):\n",
    "        time.sleep(2)\n",
    "        pyautogui.click(x_axis, y_axis)\n",
    "        pyautogui.click(x_axis, y_axis)\n",
    "        pyautogui.hotkey('ctrl', 'a')\n",
    "        time.sleep(0.5)\n",
    "        pyperclip.copy('The text to be copied to the clipboard.')\n",
    "        print(pyperclip.paste())\n",
    "\n",
    "        \n",
    "\n",
    "        \n",
    "class automate:\n",
    "    \n",
    "    def __init__(self):\n",
    "        self.mObj = mouse()\n",
    "        \n",
    "    def number_automate(self):\n",
    "        \n",
    "        ####################################################\n",
    "        self.mObj.click(1250,750)\n",
    "        number_text = self.mObj.copy_clipboard()\n",
    "\n",
    "        \n",
    "        if(number_text.isnumeric()):\n",
    "            print(number_text)\n",
    "\n",
    "            return (number_text)\n",
    "        \n",
    "        ###################################################\n",
    "        self.mObj.click(1250,650)\n",
    "        number_text = self.mObj.copy_clipboard()\n",
    "        \n",
    "        if(number_text.isnumeric()):\n",
    "            print(number_text)\n",
    "\n",
    "            return (number_text)\n",
    "            \n",
    "            \n",
    "        \n",
    "            \n",
    "        ####################################################\n",
    "        self.mObj.click(1250,580)\n",
    "        number_text = self.mObj.copy_clipboard()\n",
    "\n",
    "        \n",
    "        if(number_text.isnumeric()):\n",
    "            \n",
    "            print(number_text)\n",
    "            return (number_text)\n",
    "        \n",
    "        \n",
    "    def number_from_image(self):\n",
    "        time.sleep(2)\n",
    "        myScreenshot = pyautogui.screenshot(region=(1150,450, 300, 500))\n",
    "        myScreenshot.save(r'file.png')\n",
    "        time.sleep(2)\n",
    "        \n",
    "        self.text = (pytesseract.image_to_string(Image.open(\"file.png\")))\n",
    "        self.res = [(i) for i in self.text.split() if i.isdigit() and len(i)>10]\n",
    "        return self.res\n",
    "    \n",
    "\n"
   ]
  },
  {
   "cell_type": "code",
   "execution_count": 106,
   "id": "0a817a73",
   "metadata": {
    "scrolled": true
   },
   "outputs": [
    {
     "data": {
      "text/plain": [
       "[]"
      ]
     },
     "execution_count": 106,
     "metadata": {},
     "output_type": "execute_result"
    }
   ],
   "source": [
    "mObj = automate()\n",
    "# mObj.click(1250,650)\n",
    "mObj.number_from_image()\n",
    "# print(mObj.copy_clipboard())"
   ]
  },
  {
   "cell_type": "code",
   "execution_count": 39,
   "id": "bdee693d",
   "metadata": {},
   "outputs": [],
   "source": [
    "autoObj = automate()\n",
    "autoObj.number_automate()"
   ]
  },
  {
   "cell_type": "code",
   "execution_count": 1,
   "id": "8bd22366",
   "metadata": {},
   "outputs": [
    {
     "name": "stdout",
     "output_type": "stream",
     "text": [
      "Requirement already satisfied: pytesseract in /home/bash/anaconda3/lib/python3.8/site-packages (0.3.8)\n",
      "Requirement already satisfied: Pillow in /home/bash/anaconda3/lib/python3.8/site-packages (from pytesseract) (8.2.0)\n",
      "Collecting opencv-python\n",
      "  Downloading opencv_python-4.5.3.56-cp38-cp38-manylinux2014_x86_64.whl (49.9 MB)\n",
      "\u001b[K     |████████████████████████████████| 49.9 MB 115 kB/s eta 0:00:01     |████████████▍                   | 19.3 MB 2.9 MB/s eta 0:00:11\n",
      "\u001b[?25hRequirement already satisfied: numpy>=1.17.3 in /home/bash/anaconda3/lib/python3.8/site-packages (from opencv-python) (1.20.1)\n",
      "Installing collected packages: opencv-python\n",
      "Successfully installed opencv-python-4.5.3.56\n"
     ]
    }
   ],
   "source": [
    "!pip install pytesseract\n",
    "!pip install opencv-python\n"
   ]
  },
  {
   "cell_type": "code",
   "execution_count": 47,
   "id": "90d2e11b",
   "metadata": {},
   "outputs": [],
   "source": [
    "import cv2\n",
    "import pytesseract\n",
    "import re\n",
    "from PIL import Image\n",
    "\n",
    "class scraper:\n",
    "    \n",
    "    def number_from_image(self,image):\n",
    "        time.sleep(2)\n",
    "        myScreenshot = pyautogui.screenshot(region=(1200,400, 300, 500))\n",
    "        myScreenshot.save(r'file name.png')\n",
    "\n",
    "        \n",
    "        self.text = (pytesseract.image_to_string(Image.open(\"file name.png\")))\n",
    "        self.res = [(i) for i in self.text.split() if i.isdigit() and len(i)>10]\n",
    "        return self.res\n",
    "    \n",
    "    "
   ]
  },
  {
   "cell_type": "code",
   "execution_count": 48,
   "id": "40e2f05e",
   "metadata": {},
   "outputs": [
    {
     "data": {
      "text/plain": [
       "['01701761974']"
      ]
     },
     "execution_count": 48,
     "metadata": {},
     "output_type": "execute_result"
    }
   ],
   "source": [
    "objScraper = scraper()\n",
    "\n",
    "objScraper.number_from_image('test2.png')\n",
    "# objScraper.take_image()"
   ]
  },
  {
   "cell_type": "code",
   "execution_count": 99,
   "id": "10184c80",
   "metadata": {},
   "outputs": [
    {
     "ename": "NotImplementedError",
     "evalue": "\"scrot\" must be installed to use screenshot functions in Linux. Run: sudo apt-get install scrot",
     "output_type": "error",
     "traceback": [
      "\u001b[0;31m---------------------------------------------------------------------------\u001b[0m",
      "\u001b[0;31mNotImplementedError\u001b[0m                       Traceback (most recent call last)",
      "\u001b[0;32m<ipython-input-99-6a9cf18ced90>\u001b[0m in \u001b[0;36m<module>\u001b[0;34m\u001b[0m\n\u001b[0;32m----> 1\u001b[0;31m \u001b[0mpyautogui\u001b[0m\u001b[0;34m.\u001b[0m\u001b[0mscreenshot\u001b[0m\u001b[0;34m(\u001b[0m\u001b[0mregion\u001b[0m\u001b[0;34m=\u001b[0m\u001b[0;34m(\u001b[0m\u001b[0;36m0\u001b[0m\u001b[0;34m,\u001b[0m\u001b[0;36m0\u001b[0m\u001b[0;34m,\u001b[0m \u001b[0;36m300\u001b[0m\u001b[0;34m,\u001b[0m \u001b[0;36m400\u001b[0m\u001b[0;34m)\u001b[0m\u001b[0;34m)\u001b[0m\u001b[0;34m\u001b[0m\u001b[0;34m\u001b[0m\u001b[0m\n\u001b[0m",
      "\u001b[0;32m~/anaconda3/lib/python3.8/site-packages/pyscreeze/__init__.py\u001b[0m in \u001b[0;36m_screenshot_linux\u001b[0;34m(imageFilename, region)\u001b[0m\n\u001b[1;32m    496\u001b[0m     \"\"\"\n\u001b[1;32m    497\u001b[0m     \u001b[0;32mif\u001b[0m \u001b[0;32mnot\u001b[0m \u001b[0mscrotExists\u001b[0m\u001b[0;34m:\u001b[0m\u001b[0;34m\u001b[0m\u001b[0;34m\u001b[0m\u001b[0m\n\u001b[0;32m--> 498\u001b[0;31m         \u001b[0;32mraise\u001b[0m \u001b[0mNotImplementedError\u001b[0m\u001b[0;34m(\u001b[0m\u001b[0;34m'\"scrot\" must be installed to use screenshot functions in Linux. Run: sudo apt-get install scrot'\u001b[0m\u001b[0;34m)\u001b[0m\u001b[0;34m\u001b[0m\u001b[0;34m\u001b[0m\u001b[0m\n\u001b[0m\u001b[1;32m    499\u001b[0m     \u001b[0;32mif\u001b[0m \u001b[0mimageFilename\u001b[0m \u001b[0;32mis\u001b[0m \u001b[0;32mNone\u001b[0m\u001b[0;34m:\u001b[0m\u001b[0;34m\u001b[0m\u001b[0;34m\u001b[0m\u001b[0m\n\u001b[1;32m    500\u001b[0m         \u001b[0mtmpFilename\u001b[0m \u001b[0;34m=\u001b[0m \u001b[0;34m'.screenshot%s.png'\u001b[0m \u001b[0;34m%\u001b[0m \u001b[0;34m(\u001b[0m\u001b[0mdatetime\u001b[0m\u001b[0;34m.\u001b[0m\u001b[0mdatetime\u001b[0m\u001b[0;34m.\u001b[0m\u001b[0mnow\u001b[0m\u001b[0;34m(\u001b[0m\u001b[0;34m)\u001b[0m\u001b[0;34m.\u001b[0m\u001b[0mstrftime\u001b[0m\u001b[0;34m(\u001b[0m\u001b[0;34m'%Y-%m%d_%H-%M-%S-%f'\u001b[0m\u001b[0;34m)\u001b[0m\u001b[0;34m)\u001b[0m\u001b[0;34m\u001b[0m\u001b[0;34m\u001b[0m\u001b[0m\n",
      "\u001b[0;31mNotImplementedError\u001b[0m: \"scrot\" must be installed to use screenshot functions in Linux. Run: sudo apt-get install scrot"
     ]
    }
   ],
   "source": [
    "pyautogui.screenshot(region=(0,0, 300, 400))"
   ]
  },
  {
   "cell_type": "code",
   "execution_count": null,
   "id": "4bc416a9",
   "metadata": {},
   "outputs": [],
   "source": []
  }
 ],
 "metadata": {
  "kernelspec": {
   "display_name": "Python 3",
   "language": "python",
   "name": "python3"
  },
  "language_info": {
   "codemirror_mode": {
    "name": "ipython",
    "version": 3
   },
   "file_extension": ".py",
   "mimetype": "text/x-python",
   "name": "python",
   "nbconvert_exporter": "python",
   "pygments_lexer": "ipython3",
   "version": "3.8.8"
  }
 },
 "nbformat": 4,
 "nbformat_minor": 5
}
